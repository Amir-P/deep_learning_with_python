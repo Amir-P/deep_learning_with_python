{
 "cells": [
  {
   "cell_type": "code",
   "execution_count": null,
   "id": "7862e2a4-300f-48d7-9fc0-5cca09dbda1e",
   "metadata": {},
   "outputs": [],
   "source": [
    "import tensorflow as tf\n",
    "import numpy as np\n",
    "import math"
   ]
  },
  {
   "cell_type": "code",
   "execution_count": null,
   "id": "5746995c-f1f5-4d31-ae2e-b63cc5af379a",
   "metadata": {},
   "outputs": [],
   "source": [
    "class NaiveDense:\n",
    "    def __init__(self, input_size, output_size, activation):\n",
    "        self.W = tf.Variable(tf.random.uniform(tf.TensorShape((input_size, output_size)), minval=0, maxval=1e-1))\n",
    "        self.b = tf.Variable(tf.zeros(tf.TensorShape(output_size,)))\n",
    "        self.activation = activation\n",
    "        \n",
    "    def __call__(self, inputs):\n",
    "        return self.activation(tf.matmul(inputs, self.W) + self.b)\n",
    "    \n",
    "    @property\n",
    "    def weights(self):\n",
    "        return [self.W, self.b]"
   ]
  },
  {
   "cell_type": "code",
   "execution_count": null,
   "id": "60b48d7b-4977-455a-b757-c41642c4c321",
   "metadata": {},
   "outputs": [],
   "source": [
    "class NaiveSequential:\n",
    "    def __init__(self, layers):\n",
    "        self.layers = layers\n",
    "        \n",
    "    def __call__(self, inputs):\n",
    "        x = inputs\n",
    "        for layer in self.layers:\n",
    "            x = layer(x)\n",
    "        return x\n",
    "    \n",
    "    @property\n",
    "    def weights(self):\n",
    "        weights = []\n",
    "        for layer in self.layers:\n",
    "            weights += layer.weights\n",
    "        return weights"
   ]
  },
  {
   "cell_type": "code",
   "execution_count": null,
   "id": "cbcc15f7-47c2-4bec-9cd8-174cd76cb917",
   "metadata": {},
   "outputs": [],
   "source": [
    "class BatchGenerator:\n",
    "    def __init__(self, images, labels, batch_size=128):\n",
    "        self.index = 0\n",
    "        self.images = images\n",
    "        self.labels = labels\n",
    "        self.batch_size = batch_size\n",
    "        self.num_batches = math.ceil(len(images) / batch_size)\n",
    "        \n",
    "    def next(self):\n",
    "        images = self.images[self.index: self.index + self.batch_size]\n",
    "        labels = self.labels[self.index: self.index + self.batch_size]\n",
    "        self.index += self.batch_size\n",
    "        return images, labels"
   ]
  },
  {
   "cell_type": "code",
   "execution_count": null,
   "id": "91b7c6fd-7a0c-463c-a967-be0d244e75b0",
   "metadata": {},
   "outputs": [],
   "source": [
    "def train_one_epoch(model, images_batch, labels_batch):\n",
    "    with tf.GradientTape() as tape:\n",
    "        predictions = model(images_batch)\n",
    "        loss = tf.losses.sparse_categorical_crossentropy(labels_batch, predictions) / len(images_batch)\n",
    "        gradients = tape.gradient(loss, model.weights)\n",
    "        update_weights(gradients, model.weights)\n",
    "        return loss"
   ]
  },
  {
   "cell_type": "code",
   "execution_count": null,
   "id": "b52f20dd-b34f-475d-b4a7-bf7467bb8813",
   "metadata": {},
   "outputs": [],
   "source": [
    "optimizer = tf.keras.optimizers.SGD(1e-3)\n",
    "\n",
    "def update_weights(gradients, weights):\n",
    "    optimizer.apply_gradients(zip(gradients, weights))"
   ]
  },
  {
   "cell_type": "code",
   "execution_count": null,
   "id": "4112c9da-bec7-448c-a592-6768ffcb0754",
   "metadata": {},
   "outputs": [],
   "source": [
    "def fit(model, images, labels, epochs, batch_size=128):\n",
    "    for epoch in range(epochs):\n",
    "        print('Epoch:', epoch, '/', epochs)\n",
    "        generator = BatchGenerator(images, labels, batch_size=batch_size)\n",
    "        losses = []\n",
    "        for batch in range(generator.num_batches):\n",
    "            print('Batch:', batch, '/', generator.num_batches, end='\\r')\n",
    "            images_batch, labels_batch = generator.next()\n",
    "            loss = train_one_epoch(model, images_batch, labels_batch)\n",
    "            losses.append(tf.reduce_mean(loss))\n",
    "        print('Loss:', tf.reduce_mean(losses).numpy())"
   ]
  },
  {
   "cell_type": "code",
   "execution_count": null,
   "id": "9dbfcb71-9701-4036-b573-663d1fd49612",
   "metadata": {},
   "outputs": [],
   "source": [
    "model = NaiveSequential([\n",
    "    NaiveDense(input_size=28 * 28, output_size=512, activation=tf.nn.relu),\n",
    "    NaiveDense(input_size=512, output_size=10, activation=tf.nn.softmax),\n",
    "])"
   ]
  },
  {
   "cell_type": "code",
   "execution_count": null,
   "id": "28d0cfa9-fff3-4d0d-96f1-e24ee8b7a775",
   "metadata": {},
   "outputs": [],
   "source": [
    "(train_images, train_labels), (test_images, test_labels) = tf.keras.datasets.mnist.load_data()\n",
    "train_images = train_images.reshape(60000, 28 * 28).astype(\"float32\") / 255\n",
    "test_images = test_images.reshape(10000, 28 * 28).astype(\"float32\") / 255\n",
    "\n",
    "fit(model, train_images, train_labels, 10)"
   ]
  },
  {
   "cell_type": "code",
   "execution_count": null,
   "id": "80f7b237-0b33-4d53-8c85-449e46d460ef",
   "metadata": {
    "tags": []
   },
   "outputs": [],
   "source": [
    "predictions = model(test_images)\n",
    "predicted_labels = np.argmax(predictions.numpy(), axis=1)\n",
    "matches = predicted_labels == test_labels\n",
    "print(np.mean(matches))"
   ]
  }
 ],
 "metadata": {
  "kernelspec": {
   "display_name": "Python 3 (ipykernel)",
   "language": "python",
   "name": "python3"
  },
  "language_info": {
   "codemirror_mode": {
    "name": "ipython",
    "version": 3
   },
   "file_extension": ".py",
   "mimetype": "text/x-python",
   "name": "python",
   "nbconvert_exporter": "python",
   "pygments_lexer": "ipython3",
   "version": "3.9.4"
  }
 },
 "nbformat": 4,
 "nbformat_minor": 5
}
